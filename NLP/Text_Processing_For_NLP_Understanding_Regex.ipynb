{
  "cells": [
    {
      "cell_type": "markdown",
      "metadata": {
        "id": "n5vksC5Eec3p"
      },
      "source": [
        "# Import the 're' Module"
      ]
    },
    {
      "cell_type": "code",
      "execution_count": null,
      "metadata": {
        "id": "Whe0zgxtec3u"
      },
      "outputs": [],
      "source": [
        "import re"
      ]
    },
    {
      "cell_type": "markdown",
      "metadata": {
        "id": "6o55LbQ9ec3w"
      },
      "source": [
        "# Sample Text"
      ]
    },
    {
      "cell_type": "code",
      "execution_count": null,
      "metadata": {
        "id": "c1-EV_5aec3w"
      },
      "outputs": [],
      "source": [
        "text = \"The quick brown fox jumps over the lazy dog.\""
      ]
    },
    {
      "cell_type": "markdown",
      "metadata": {
        "id": "F4v7_NILec3x"
      },
      "source": [
        "# Basic Regex Operations"
      ]
    },
    {
      "cell_type": "markdown",
      "metadata": {
        "id": "rwbDBRy5ec3x"
      },
      "source": [
        "Regex allows you to perform various operations on text, such as searching for patterns, replacing text, and splitting strings."
      ]
    },
    {
      "cell_type": "markdown",
      "metadata": {
        "id": "ohAh6X-fec3y"
      },
      "source": [
        "### Searching for a Pattern"
      ]
    },
    {
      "cell_type": "code",
      "execution_count": null,
      "metadata": {
        "id": "QigbUfQYec3y",
        "outputId": "d22627ca-aeff-4e0b-867d-569dd7214954"
      },
      "outputs": [
        {
          "name": "stdout",
          "output_type": "stream",
          "text": [
            "Matches: ['fox']\n"
          ]
        }
      ],
      "source": [
        "pattern = r\"fox\"\n",
        "matches = re.findall(pattern, text)\n",
        "print(\"Matches:\", matches)"
      ]
    },
    {
      "cell_type": "markdown",
      "metadata": {
        "id": "HSSGINwWec3z"
      },
      "source": [
        "### Replacing Text"
      ]
    },
    {
      "cell_type": "code",
      "execution_count": null,
      "metadata": {
        "id": "p17UM1exec3z",
        "outputId": "91c81883-96f1-4778-c9e2-e0dd2b80441d"
      },
      "outputs": [
        {
          "name": "stdout",
          "output_type": "stream",
          "text": [
            "New Text: The quick brown cat jumps over the lazy dog.\n"
          ]
        }
      ],
      "source": [
        "pattern = r\"fox\"\n",
        "replacement = \"cat\"\n",
        "new_text = re.sub(pattern, replacement, text)\n",
        "print(\"New Text:\", new_text)"
      ]
    },
    {
      "cell_type": "markdown",
      "metadata": {
        "id": "AC2Mf0LCec30"
      },
      "source": [
        "### Splitting Strings"
      ]
    },
    {
      "cell_type": "code",
      "execution_count": null,
      "metadata": {
        "id": "kY3AbAOAec30",
        "outputId": "48b090e1-6436-4565-db7f-0884644e1df6"
      },
      "outputs": [
        {
          "name": "stdout",
          "output_type": "stream",
          "text": [
            "Split Text: ['The', 'quick', 'brown', 'fox', 'jumps', 'over', 'the', 'lazy', 'dog.']\n"
          ]
        }
      ],
      "source": [
        "pattern = r\"\\s\"  # Split on spaces\n",
        "split_text = re.split(pattern, text)\n",
        "print(\"Split Text:\", split_text)"
      ]
    },
    {
      "cell_type": "markdown",
      "metadata": {
        "id": "n1YDScjbec30"
      },
      "source": [
        "# Character Classes and Quantifiers"
      ]
    },
    {
      "cell_type": "markdown",
      "metadata": {
        "id": "TWIculnLec31"
      },
      "source": [
        "### Character Classes"
      ]
    },
    {
      "cell_type": "code",
      "execution_count": null,
      "metadata": {
        "id": "oDqU1_soec31",
        "outputId": "8aa372e7-3c6d-45d1-cb39-994e03bf98c7"
      },
      "outputs": [
        {
          "name": "stdout",
          "output_type": "stream",
          "text": [
            "Vowels: ['e', 'u', 'i', 'o', 'o', 'u', 'o', 'e', 'e', 'a', 'o']\n"
          ]
        }
      ],
      "source": [
        "pattern = r\"[aeiou]\"\n",
        "vowels = re.findall(pattern, text)\n",
        "print(\"Vowels:\", vowels)"
      ]
    },
    {
      "cell_type": "markdown",
      "metadata": {
        "id": "V_7uwYQ9ec31"
      },
      "source": [
        "### Quantifiers"
      ]
    },
    {
      "cell_type": "code",
      "execution_count": null,
      "metadata": {
        "id": "D7iKLQOuec31",
        "outputId": "d3df0e6b-1fa5-485b-d888-81f4165f09e8"
      },
      "outputs": [
        {
          "name": "stdout",
          "output_type": "stream",
          "text": [
            "Matches: []\n"
          ]
        }
      ],
      "source": [
        "pattern = r\"o{2}\"  # Matches two consecutive 'o' characters\n",
        "matches = re.findall(pattern, text)\n",
        "print(\"Matches:\", matches)"
      ]
    },
    {
      "cell_type": "markdown",
      "metadata": {
        "id": "iGae6JAVec31"
      },
      "source": [
        "# Metacharacters and Anchors"
      ]
    },
    {
      "cell_type": "markdown",
      "metadata": {
        "id": "CrI4FDfcec32"
      },
      "source": [
        "### Metacharacters"
      ]
    },
    {
      "cell_type": "code",
      "execution_count": null,
      "metadata": {
        "id": "uKXKncJAec32",
        "outputId": "3173c30f-30ea-440a-cf56-4bd8024eaac5"
      },
      "outputs": [
        {
          "name": "stdout",
          "output_type": "stream",
          "text": [
            "Matches: ['The', 'fox', 'the', 'dog']\n"
          ]
        }
      ],
      "source": [
        "pattern = r\"\\b\\w{3}\\b\"  # Matches three-letter words\n",
        "matches = re.findall(pattern, text)\n",
        "print(\"Matches:\", matches)"
      ]
    },
    {
      "cell_type": "markdown",
      "metadata": {
        "id": "38WHkkW4ec32"
      },
      "source": [
        "### Anchors"
      ]
    },
    {
      "cell_type": "code",
      "execution_count": null,
      "metadata": {
        "id": "DDndNb8Yec32",
        "outputId": "004f430f-c8c5-4d2b-f0bb-e2068a6b80b1"
      },
      "outputs": [
        {
          "name": "stdout",
          "output_type": "stream",
          "text": [
            "Matches: ['The']\n"
          ]
        }
      ],
      "source": [
        "pattern = r\"^The\"  # Matches 'The' at the beginning of the string\n",
        "matches = re.findall(pattern, text)\n",
        "print(\"Matches:\", matches)"
      ]
    },
    {
      "cell_type": "markdown",
      "metadata": {
        "id": "fK8cMLUJec32"
      },
      "source": [
        "# Grouping and Capturing"
      ]
    },
    {
      "cell_type": "code",
      "execution_count": null,
      "metadata": {
        "id": "4D3574F2ec32",
        "outputId": "4c722c72-0667-4f36-b70e-496a001079b6"
      },
      "outputs": [
        {
          "name": "stdout",
          "output_type": "stream",
          "text": [
            "Matches: [('The', 'quick'), ('brown', 'fox'), ('jumps', 'over'), ('the', 'lazy')]\n"
          ]
        }
      ],
      "source": [
        "pattern = r\"(\\w+)\\s(\\w+)\"  # Matches two consecutive words\n",
        "matches = re.findall(pattern, text)\n",
        "print(\"Matches:\", matches)"
      ]
    },
    {
      "cell_type": "markdown",
      "metadata": {
        "id": "KxXNO-x9ec33"
      },
      "source": [
        "# Using Regex for Tokenization"
      ]
    },
    {
      "cell_type": "markdown",
      "metadata": {
        "id": "AFasJRy7ec33"
      },
      "source": [
        "Regex is also useful for tokenizing text into words or sentences."
      ]
    },
    {
      "cell_type": "markdown",
      "metadata": {
        "id": "PhSVkwrvec33"
      },
      "source": [
        "### Tokenizing into Words"
      ]
    },
    {
      "cell_type": "code",
      "execution_count": null,
      "metadata": {
        "id": "yNonOGzMec33",
        "outputId": "94b6b155-295b-4096-d543-a6bcb022b0e7"
      },
      "outputs": [
        {
          "name": "stdout",
          "output_type": "stream",
          "text": [
            "Words: ['The', 'quick', 'brown', 'fox', 'jumps', 'over', 'the', 'lazy', 'dog.']\n"
          ]
        }
      ],
      "source": [
        "pattern = r\"\\s\"  # Split on spaces\n",
        "words = re.split(pattern, text)\n",
        "print(\"Words:\", words)"
      ]
    },
    {
      "cell_type": "markdown",
      "metadata": {
        "id": "AJEbvnmCec33"
      },
      "source": [
        "### Tokenizing into Sentences"
      ]
    },
    {
      "cell_type": "code",
      "execution_count": null,
      "metadata": {
        "id": "CQqwKQD-ec33",
        "outputId": "2b6a8a39-0313-4c1b-d7ad-d9fcfaadee40"
      },
      "outputs": [
        {
          "name": "stdout",
          "output_type": "stream",
          "text": [
            "Sentences: ['The quick brown fox jumps over the lazy dog.']\n"
          ]
        }
      ],
      "source": [
        "pattern = r\"\\.\\s\"  # Split after periods followed by a space\n",
        "sentences = re.split(pattern, text)\n",
        "print(\"Sentences:\", sentences)"
      ]
    },
    {
      "cell_type": "code",
      "execution_count": null,
      "metadata": {
        "id": "lQrQc1Ufec34"
      },
      "outputs": [],
      "source": []
    }
  ],
  "metadata": {
    "kernelspec": {
      "display_name": "Python 3",
      "language": "python",
      "name": "python3"
    },
    "language_info": {
      "codemirror_mode": {
        "name": "ipython",
        "version": 3
      },
      "file_extension": ".py",
      "mimetype": "text/x-python",
      "name": "python",
      "nbconvert_exporter": "python",
      "pygments_lexer": "ipython3",
      "version": "3.8.5"
    },
    "colab": {
      "provenance": []
    }
  },
  "nbformat": 4,
  "nbformat_minor": 0
}