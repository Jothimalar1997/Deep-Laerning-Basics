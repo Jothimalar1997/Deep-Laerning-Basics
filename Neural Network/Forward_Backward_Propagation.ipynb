{
  "nbformat": 4,
  "nbformat_minor": 0,
  "metadata": {
    "colab": {
      "provenance": []
    },
    "kernelspec": {
      "name": "python3",
      "display_name": "Python 3"
    },
    "language_info": {
      "name": "python"
    },
    "widgets": {
      "application/vnd.jupyter.widget-state+json": {
        "55eeb82ad0ac4adca4fe3c5673ca1357": {
          "model_module": "@jupyter-widgets/controls",
          "model_name": "VBoxModel",
          "model_module_version": "1.5.0",
          "state": {
            "_dom_classes": [
              "widget-interact"
            ],
            "_model_module": "@jupyter-widgets/controls",
            "_model_module_version": "1.5.0",
            "_model_name": "VBoxModel",
            "_view_count": null,
            "_view_module": "@jupyter-widgets/controls",
            "_view_module_version": "1.5.0",
            "_view_name": "VBoxView",
            "box_style": "",
            "children": [
              "IPY_MODEL_92981a0f04444642aaff9346338d9bc8",
              "IPY_MODEL_0e380ea0a44942639ab6a53ea401a19a"
            ],
            "layout": "IPY_MODEL_5a14164ce3c7460fa821c1b2b59f16a0"
          }
        },
        "92981a0f04444642aaff9346338d9bc8": {
          "model_module": "@jupyter-widgets/controls",
          "model_name": "IntSliderModel",
          "model_module_version": "1.5.0",
          "state": {
            "_dom_classes": [],
            "_model_module": "@jupyter-widgets/controls",
            "_model_module_version": "1.5.0",
            "_model_name": "IntSliderModel",
            "_view_count": null,
            "_view_module": "@jupyter-widgets/controls",
            "_view_module_version": "1.5.0",
            "_view_name": "IntSliderView",
            "continuous_update": true,
            "description": "beta",
            "description_tooltip": null,
            "disabled": false,
            "layout": "IPY_MODEL_1be1ddf59e69495598b61067530a5db9",
            "max": 25,
            "min": -1,
            "orientation": "horizontal",
            "readout": true,
            "readout_format": "d",
            "step": 1,
            "style": "IPY_MODEL_5152cb435d3e4da4a25440f0a890d492",
            "value": 5
          }
        },
        "0e380ea0a44942639ab6a53ea401a19a": {
          "model_module": "@jupyter-widgets/output",
          "model_name": "OutputModel",
          "model_module_version": "1.0.0",
          "state": {
            "_dom_classes": [],
            "_model_module": "@jupyter-widgets/output",
            "_model_module_version": "1.0.0",
            "_model_name": "OutputModel",
            "_view_count": null,
            "_view_module": "@jupyter-widgets/output",
            "_view_module_version": "1.0.0",
            "_view_name": "OutputView",
            "layout": "IPY_MODEL_84225a9f7753495f924e5ade3eaef0eb",
            "msg_id": "",
            "outputs": []
          }
        },
        "5a14164ce3c7460fa821c1b2b59f16a0": {
          "model_module": "@jupyter-widgets/base",
          "model_name": "LayoutModel",
          "model_module_version": "1.2.0",
          "state": {
            "_model_module": "@jupyter-widgets/base",
            "_model_module_version": "1.2.0",
            "_model_name": "LayoutModel",
            "_view_count": null,
            "_view_module": "@jupyter-widgets/base",
            "_view_module_version": "1.2.0",
            "_view_name": "LayoutView",
            "align_content": null,
            "align_items": null,
            "align_self": null,
            "border": null,
            "bottom": null,
            "display": null,
            "flex": null,
            "flex_flow": null,
            "grid_area": null,
            "grid_auto_columns": null,
            "grid_auto_flow": null,
            "grid_auto_rows": null,
            "grid_column": null,
            "grid_gap": null,
            "grid_row": null,
            "grid_template_areas": null,
            "grid_template_columns": null,
            "grid_template_rows": null,
            "height": null,
            "justify_content": null,
            "justify_items": null,
            "left": null,
            "margin": null,
            "max_height": null,
            "max_width": null,
            "min_height": null,
            "min_width": null,
            "object_fit": null,
            "object_position": null,
            "order": null,
            "overflow": null,
            "overflow_x": null,
            "overflow_y": null,
            "padding": null,
            "right": null,
            "top": null,
            "visibility": null,
            "width": null
          }
        },
        "1be1ddf59e69495598b61067530a5db9": {
          "model_module": "@jupyter-widgets/base",
          "model_name": "LayoutModel",
          "model_module_version": "1.2.0",
          "state": {
            "_model_module": "@jupyter-widgets/base",
            "_model_module_version": "1.2.0",
            "_model_name": "LayoutModel",
            "_view_count": null,
            "_view_module": "@jupyter-widgets/base",
            "_view_module_version": "1.2.0",
            "_view_name": "LayoutView",
            "align_content": null,
            "align_items": null,
            "align_self": null,
            "border": null,
            "bottom": null,
            "display": null,
            "flex": null,
            "flex_flow": null,
            "grid_area": null,
            "grid_auto_columns": null,
            "grid_auto_flow": null,
            "grid_auto_rows": null,
            "grid_column": null,
            "grid_gap": null,
            "grid_row": null,
            "grid_template_areas": null,
            "grid_template_columns": null,
            "grid_template_rows": null,
            "height": null,
            "justify_content": null,
            "justify_items": null,
            "left": null,
            "margin": null,
            "max_height": null,
            "max_width": null,
            "min_height": null,
            "min_width": null,
            "object_fit": null,
            "object_position": null,
            "order": null,
            "overflow": null,
            "overflow_x": null,
            "overflow_y": null,
            "padding": null,
            "right": null,
            "top": null,
            "visibility": null,
            "width": null
          }
        },
        "5152cb435d3e4da4a25440f0a890d492": {
          "model_module": "@jupyter-widgets/controls",
          "model_name": "SliderStyleModel",
          "model_module_version": "1.5.0",
          "state": {
            "_model_module": "@jupyter-widgets/controls",
            "_model_module_version": "1.5.0",
            "_model_name": "SliderStyleModel",
            "_view_count": null,
            "_view_module": "@jupyter-widgets/base",
            "_view_module_version": "1.2.0",
            "_view_name": "StyleView",
            "description_width": "",
            "handle_color": null
          }
        },
        "84225a9f7753495f924e5ade3eaef0eb": {
          "model_module": "@jupyter-widgets/base",
          "model_name": "LayoutModel",
          "model_module_version": "1.2.0",
          "state": {
            "_model_module": "@jupyter-widgets/base",
            "_model_module_version": "1.2.0",
            "_model_name": "LayoutModel",
            "_view_count": null,
            "_view_module": "@jupyter-widgets/base",
            "_view_module_version": "1.2.0",
            "_view_name": "LayoutView",
            "align_content": null,
            "align_items": null,
            "align_self": null,
            "border": null,
            "bottom": null,
            "display": null,
            "flex": null,
            "flex_flow": null,
            "grid_area": null,
            "grid_auto_columns": null,
            "grid_auto_flow": null,
            "grid_auto_rows": null,
            "grid_column": null,
            "grid_gap": null,
            "grid_row": null,
            "grid_template_areas": null,
            "grid_template_columns": null,
            "grid_template_rows": null,
            "height": null,
            "justify_content": null,
            "justify_items": null,
            "left": null,
            "margin": null,
            "max_height": null,
            "max_width": null,
            "min_height": null,
            "min_width": null,
            "object_fit": null,
            "object_position": null,
            "order": null,
            "overflow": null,
            "overflow_x": null,
            "overflow_y": null,
            "padding": null,
            "right": null,
            "top": null,
            "visibility": null,
            "width": null
          }
        },
        "535f03e4158d42f897cea82b89eb2717": {
          "model_module": "@jupyter-widgets/controls",
          "model_name": "VBoxModel",
          "model_module_version": "1.5.0",
          "state": {
            "_dom_classes": [
              "widget-interact"
            ],
            "_model_module": "@jupyter-widgets/controls",
            "_model_module_version": "1.5.0",
            "_model_name": "VBoxModel",
            "_view_count": null,
            "_view_module": "@jupyter-widgets/controls",
            "_view_module_version": "1.5.0",
            "_view_name": "VBoxView",
            "box_style": "",
            "children": [
              "IPY_MODEL_fa7c7662d069485b8f71d688aa9ceb2a",
              "IPY_MODEL_4e1c9cf72fe14ced96da97e9de892ad3"
            ],
            "layout": "IPY_MODEL_51415f291b434caf9dc45c3cb899e080"
          }
        },
        "fa7c7662d069485b8f71d688aa9ceb2a": {
          "model_module": "@jupyter-widgets/controls",
          "model_name": "IntSliderModel",
          "model_module_version": "1.5.0",
          "state": {
            "_dom_classes": [],
            "_model_module": "@jupyter-widgets/controls",
            "_model_module_version": "1.5.0",
            "_model_name": "IntSliderModel",
            "_view_count": null,
            "_view_module": "@jupyter-widgets/controls",
            "_view_module_version": "1.5.0",
            "_view_name": "IntSliderView",
            "continuous_update": true,
            "description": "theta",
            "description_tooltip": null,
            "disabled": false,
            "layout": "IPY_MODEL_232e2134686c4dc4ae67ab90a90ea495",
            "max": 25,
            "min": -1,
            "orientation": "horizontal",
            "readout": true,
            "readout_format": "d",
            "step": 1,
            "style": "IPY_MODEL_3c69439b671046ea94232613da4c201a",
            "value": 5
          }
        },
        "4e1c9cf72fe14ced96da97e9de892ad3": {
          "model_module": "@jupyter-widgets/output",
          "model_name": "OutputModel",
          "model_module_version": "1.0.0",
          "state": {
            "_dom_classes": [],
            "_model_module": "@jupyter-widgets/output",
            "_model_module_version": "1.0.0",
            "_model_name": "OutputModel",
            "_view_count": null,
            "_view_module": "@jupyter-widgets/output",
            "_view_module_version": "1.0.0",
            "_view_name": "OutputView",
            "layout": "IPY_MODEL_f2f878a0c2c248ddadd8ea47e803a751",
            "msg_id": "",
            "outputs": []
          }
        },
        "51415f291b434caf9dc45c3cb899e080": {
          "model_module": "@jupyter-widgets/base",
          "model_name": "LayoutModel",
          "model_module_version": "1.2.0",
          "state": {
            "_model_module": "@jupyter-widgets/base",
            "_model_module_version": "1.2.0",
            "_model_name": "LayoutModel",
            "_view_count": null,
            "_view_module": "@jupyter-widgets/base",
            "_view_module_version": "1.2.0",
            "_view_name": "LayoutView",
            "align_content": null,
            "align_items": null,
            "align_self": null,
            "border": null,
            "bottom": null,
            "display": null,
            "flex": null,
            "flex_flow": null,
            "grid_area": null,
            "grid_auto_columns": null,
            "grid_auto_flow": null,
            "grid_auto_rows": null,
            "grid_column": null,
            "grid_gap": null,
            "grid_row": null,
            "grid_template_areas": null,
            "grid_template_columns": null,
            "grid_template_rows": null,
            "height": null,
            "justify_content": null,
            "justify_items": null,
            "left": null,
            "margin": null,
            "max_height": null,
            "max_width": null,
            "min_height": null,
            "min_width": null,
            "object_fit": null,
            "object_position": null,
            "order": null,
            "overflow": null,
            "overflow_x": null,
            "overflow_y": null,
            "padding": null,
            "right": null,
            "top": null,
            "visibility": null,
            "width": null
          }
        },
        "232e2134686c4dc4ae67ab90a90ea495": {
          "model_module": "@jupyter-widgets/base",
          "model_name": "LayoutModel",
          "model_module_version": "1.2.0",
          "state": {
            "_model_module": "@jupyter-widgets/base",
            "_model_module_version": "1.2.0",
            "_model_name": "LayoutModel",
            "_view_count": null,
            "_view_module": "@jupyter-widgets/base",
            "_view_module_version": "1.2.0",
            "_view_name": "LayoutView",
            "align_content": null,
            "align_items": null,
            "align_self": null,
            "border": null,
            "bottom": null,
            "display": null,
            "flex": null,
            "flex_flow": null,
            "grid_area": null,
            "grid_auto_columns": null,
            "grid_auto_flow": null,
            "grid_auto_rows": null,
            "grid_column": null,
            "grid_gap": null,
            "grid_row": null,
            "grid_template_areas": null,
            "grid_template_columns": null,
            "grid_template_rows": null,
            "height": null,
            "justify_content": null,
            "justify_items": null,
            "left": null,
            "margin": null,
            "max_height": null,
            "max_width": null,
            "min_height": null,
            "min_width": null,
            "object_fit": null,
            "object_position": null,
            "order": null,
            "overflow": null,
            "overflow_x": null,
            "overflow_y": null,
            "padding": null,
            "right": null,
            "top": null,
            "visibility": null,
            "width": null
          }
        },
        "3c69439b671046ea94232613da4c201a": {
          "model_module": "@jupyter-widgets/controls",
          "model_name": "SliderStyleModel",
          "model_module_version": "1.5.0",
          "state": {
            "_model_module": "@jupyter-widgets/controls",
            "_model_module_version": "1.5.0",
            "_model_name": "SliderStyleModel",
            "_view_count": null,
            "_view_module": "@jupyter-widgets/base",
            "_view_module_version": "1.2.0",
            "_view_name": "StyleView",
            "description_width": "",
            "handle_color": null
          }
        },
        "f2f878a0c2c248ddadd8ea47e803a751": {
          "model_module": "@jupyter-widgets/base",
          "model_name": "LayoutModel",
          "model_module_version": "1.2.0",
          "state": {
            "_model_module": "@jupyter-widgets/base",
            "_model_module_version": "1.2.0",
            "_model_name": "LayoutModel",
            "_view_count": null,
            "_view_module": "@jupyter-widgets/base",
            "_view_module_version": "1.2.0",
            "_view_name": "LayoutView",
            "align_content": null,
            "align_items": null,
            "align_self": null,
            "border": null,
            "bottom": null,
            "display": null,
            "flex": null,
            "flex_flow": null,
            "grid_area": null,
            "grid_auto_columns": null,
            "grid_auto_flow": null,
            "grid_auto_rows": null,
            "grid_column": null,
            "grid_gap": null,
            "grid_row": null,
            "grid_template_areas": null,
            "grid_template_columns": null,
            "grid_template_rows": null,
            "height": null,
            "justify_content": null,
            "justify_items": null,
            "left": null,
            "margin": null,
            "max_height": null,
            "max_width": null,
            "min_height": null,
            "min_width": null,
            "object_fit": null,
            "object_position": null,
            "order": null,
            "overflow": null,
            "overflow_x": null,
            "overflow_y": null,
            "padding": null,
            "right": null,
            "top": null,
            "visibility": null,
            "width": null
          }
        }
      }
    }
  },
  "cells": [
    {
      "cell_type": "markdown",
      "source": [
        "## Toy Python example"
      ],
      "metadata": {
        "id": "7dtBsLJ4oIj-"
      }
    },
    {
      "cell_type": "code",
      "execution_count": 1,
      "metadata": {
        "id": "jMZo4Qkwlxcu"
      },
      "outputs": [],
      "source": [
        " # Ensure python 3 forward compatibility\n",
        "from __future__ import print_function\n",
        "import numpy as np\n",
        "\n",
        "def sigmoid(x):\n",
        "    return 1/(1 + np.exp(-x))\n",
        "\n",
        "class SigmoidLayer:\n",
        "    def __init__(self, n_input, n_output):\n",
        "        self.W = np.random.randn(n_output, n_input)\n",
        "        self.b = np.random.randn(n_output, 1)\n",
        "    def output(self, X):\n",
        "        if X.ndim == 1:\n",
        "            X = X.reshape(-1, 1)\n",
        "        return sigmoid(self.W.dot(X) + self.b)\n",
        "\n",
        "class SigmoidNetwork:\n",
        "\n",
        "    def __init__(self, layer_sizes):\n",
        "        '''\n",
        "        :parameters:\n",
        "            - layer_sizes : list of int\n",
        "                List of layer sizes of length L+1 (including the input dimensionality)\n",
        "        '''\n",
        "        self.layers = []\n",
        "        for n_input, n_output in zip(layer_sizes[:-1], layer_sizes[1:]):\n",
        "            self.layers.append(SigmoidLayer(n_input, n_output))\n",
        "    \n",
        "    def train(self, X, y, learning_rate=0.2):\n",
        "        X = np.array(X)\n",
        "        y = np.array(y)\n",
        "        if X.ndim == 1:\n",
        "            X = X.reshape(-1, 1)\n",
        "        if y.ndim == 1:\n",
        "            y = y.reshape(1, -1)\n",
        "        \n",
        "        # Forward pass - compute a^n for n in {0, ... L}\n",
        "        layer_outputs = [X]\n",
        "        for layer in self.layers:\n",
        "            layer_outputs.append(layer.output(layer_outputs[-1]))\n",
        "        \n",
        "        # Backward pass - compute \\partial C/\\partial z^m for m in {L, ..., 1}\n",
        "        cost_partials = [layer_outputs[-1] - y]\n",
        "        for layer, layer_output in zip(reversed(self.layers), reversed(layer_outputs[:-1])):\n",
        "            cost_partials.append(layer.W.T.dot(cost_partials[-1])*layer_output*(1 - layer_output))\n",
        "        cost_partials.reverse()\n",
        "        \n",
        "        # Compute weight gradient step\n",
        "        W_updates = []\n",
        "        for cost_partial, layer_output in zip(cost_partials[1:], layer_outputs[:-1]):\n",
        "            W_updates.append(cost_partial.dot(layer_output.T)/X.shape[1])\n",
        "        # and biases\n",
        "        b_updates = [cost_partial.mean(axis=1).reshape(-1, 1) for cost_partial in cost_partials[1:]]\n",
        "        \n",
        "        for W_update, b_update, layer in zip(W_updates, b_updates, self.layers):\n",
        "            layer.W -= W_update*learning_rate\n",
        "            layer.b -= b_update*learning_rate\n",
        "\n",
        "    def output(self, X):\n",
        "        a = np.array(X)\n",
        "        if a.ndim == 1:\n",
        "            a = a.reshape(-1, 1)\n",
        "        for layer in self.layers:\n",
        "            a = layer.output(a)\n",
        "        return a"
      ]
    },
    {
      "cell_type": "code",
      "source": [
        "nn = SigmoidNetwork([2, 2, 1])\n",
        "X = np.array([[0, 1, 0, 1], \n",
        "              [0, 0, 1, 1]])\n",
        "y = np.array([0, 1, 1, 0])\n",
        "for n in range(int(1e3)):\n",
        "    nn.train(X, y, learning_rate=1.)\n",
        "print(\"Input\\tOutput\\tQuantized\")\n",
        "for i in [[0, 0], [1, 0], [0, 1], [1, 1]]:\n",
        "    print(\"{}\\t{:.4f}\\t{}\".format(i, nn.output(i)[0, 0], 1*(nn.output(i)[0] > .5)))"
      ],
      "metadata": {
        "colab": {
          "base_uri": "https://localhost:8080/"
        },
        "id": "K3DbSjKioNer",
        "outputId": "b2d724cf-2e47-40ce-9bd6-f9c5d4ba2502"
      },
      "execution_count": 2,
      "outputs": [
        {
          "output_type": "stream",
          "name": "stdout",
          "text": [
            "Input\tOutput\tQuantized\n",
            "[0, 0]\t0.5058\t[1]\n",
            "[1, 0]\t0.4903\t[0]\n",
            "[0, 1]\t0.9871\t[1]\n",
            "[1, 1]\t0.0162\t[0]\n"
          ]
        }
      ]
    },
    {
      "cell_type": "code",
      "source": [
        "import ipywidgets as widgets\n",
        "from ipywidgets import *\n",
        "import matplotlib.pyplot as plt\n",
        "logistic = lambda h, beta: 1./(1 + np.exp(-beta * h))\n",
        "\n",
        "@interact(beta=(-1, 25))\n",
        "def logistic_plot(beta=5):\n",
        "    hvals = np.linspace(-2, 2)\n",
        "    plt.plot(hvals, logistic(hvals, beta))"
      ],
      "metadata": {
        "colab": {
          "base_uri": "https://localhost:8080/",
          "height": 462,
          "referenced_widgets": [
            "55eeb82ad0ac4adca4fe3c5673ca1357",
            "92981a0f04444642aaff9346338d9bc8",
            "0e380ea0a44942639ab6a53ea401a19a",
            "5a14164ce3c7460fa821c1b2b59f16a0",
            "1be1ddf59e69495598b61067530a5db9",
            "5152cb435d3e4da4a25440f0a890d492",
            "84225a9f7753495f924e5ade3eaef0eb"
          ]
        },
        "id": "aqeQaiweoRGi",
        "outputId": "a256fd5d-ede4-4341-ca56-cb149a459ce7"
      },
      "execution_count": 3,
      "outputs": [
        {
          "output_type": "display_data",
          "data": {
            "text/plain": [
              "interactive(children=(IntSlider(value=5, description='beta', max=25, min=-1), Output()), _dom_classes=('widget…"
            ],
            "application/vnd.jupyter.widget-view+json": {
              "version_major": 2,
              "version_minor": 0,
              "model_id": "55eeb82ad0ac4adca4fe3c5673ca1357"
            }
          },
          "metadata": {}
        },
        {
          "output_type": "display_data",
          "data": {
            "text/plain": [
              "<Figure size 640x480 with 1 Axes>"
            ],
            "image/png": "[encoded data removed]"
          },
          "metadata": {}
        }
      ]
    },
    {
      "cell_type": "code",
      "source": [
        "hyperbolic_tangent = lambda h: (np.exp(h) - np.exp(-h)) / (np.exp(h) + np.exp(-h))\n",
        "\n",
        "@interact(theta=(-1, 25))\n",
        "def tanh_plot(theta=5):\n",
        "    hvals = np.linspace(-2, 2)\n",
        "    h = hvals*theta\n",
        "    plt.plot(hvals, hyperbolic_tangent(h))"
      ],
      "metadata": {
        "colab": {
          "base_uri": "https://localhost:8080/",
          "height": 462,
          "referenced_widgets": [
            "535f03e4158d42f897cea82b89eb2717",
            "fa7c7662d069485b8f71d688aa9ceb2a",
            "4e1c9cf72fe14ced96da97e9de892ad3",
            "51415f291b434caf9dc45c3cb899e080",
            "232e2134686c4dc4ae67ab90a90ea495",
            "3c69439b671046ea94232613da4c201a",
            "f2f878a0c2c248ddadd8ea47e803a751"
          ]
        },
        "id": "qkc2nTIloUGY",
        "outputId": "13050379-c88d-4d2a-b1de-cdf1705c3661"
      },
      "execution_count": 4,
      "outputs": [
        {
          "output_type": "display_data",
          "data": {
            "text/plain": [
              "interactive(children=(IntSlider(value=5, description='theta', max=25, min=-1), Output()), _dom_classes=('widge…"
            ],
            "application/vnd.jupyter.widget-view+json": {
              "version_major": 2,
              "version_minor": 0,
              "model_id": "535f03e4158d42f897cea82b89eb2717"
            }
          },
          "metadata": {}
        },
        {
          "output_type": "display_data",
          "data": {
            "text/plain": [
              "<Figure size 640x480 with 1 Axes>"
            ],
            "image/png": "[encoded data removed]"
          },
          "metadata": {}
        }
      ]
    }
  ]
}