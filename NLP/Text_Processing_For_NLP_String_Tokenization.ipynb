{
  "cells": [
    {
      "cell_type": "markdown",
      "metadata": {
        "id": "cUDknFxYe575"
      },
      "source": [
        "# Importing necessary libraries"
      ]
    },
    {
      "cell_type": "code",
      "execution_count": null,
      "metadata": {
        "id": "d_ZoaPySe578"
      },
      "outputs": [],
      "source": [
        "import nltk\n",
        "from nltk.tokenize import word_tokenize, sent_tokenize"
      ]
    },
    {
      "cell_type": "markdown",
      "metadata": {
        "id": "hhKszymae579"
      },
      "source": [
        "# Sample Text"
      ]
    },
    {
      "cell_type": "code",
      "execution_count": null,
      "metadata": {
        "id": "NQvmIXzje579"
      },
      "outputs": [],
      "source": [
        "text = \"This is a sample sentence. And here is another one.\""
      ]
    },
    {
      "cell_type": "markdown",
      "metadata": {
        "id": "KjOaGRaSe57-"
      },
      "source": [
        "# Tokenize into words"
      ]
    },
    {
      "cell_type": "code",
      "execution_count": null,
      "metadata": {
        "id": "5jwcJ4Oge57-",
        "outputId": "d65894c6-d9fd-494b-8b58-75560cce59eb"
      },
      "outputs": [
        {
          "name": "stdout",
          "output_type": "stream",
          "text": [
            "Tokenize into words\n",
            "Tokenized words: ['This', 'is', 'a', 'sample', 'sentence', '.', 'And', 'here', 'is', 'another', 'one', '.']\n",
            "\n"
          ]
        }
      ],
      "source": [
        "print(\"Tokenize into words\")\n",
        "words = word_tokenize(text)\n",
        "print(\"Tokenized words:\", words)\n",
        "print()"
      ]
    },
    {
      "cell_type": "markdown",
      "metadata": {
        "id": "Evv8TmpMe57-"
      },
      "source": [
        "# Tokenize into sentences"
      ]
    },
    {
      "cell_type": "code",
      "execution_count": null,
      "metadata": {
        "id": "Ov59iK21e57_",
        "outputId": "223a4d03-97d3-43ab-c18e-a5e091a1327a"
      },
      "outputs": [
        {
          "name": "stdout",
          "output_type": "stream",
          "text": [
            "Tokenize into sentences\n",
            "Tokenized sentences: ['This is a sample sentence.', 'And here is another one.']\n"
          ]
        }
      ],
      "source": [
        "print(\"Tokenize into sentences\")\n",
        "sentences = sent_tokenize(text)\n",
        "print(\"Tokenized sentences:\", sentences)"
      ]
    },
    {
      "cell_type": "code",
      "execution_count": null,
      "metadata": {
        "id": "Ot_nzdi3e57_"
      },
      "outputs": [],
      "source": []
    }
  ],
  "metadata": {
    "kernelspec": {
      "display_name": "Python 3",
      "language": "python",
      "name": "python3"
    },
    "language_info": {
      "codemirror_mode": {
        "name": "ipython",
        "version": 3
      },
      "file_extension": ".py",
      "mimetype": "text/x-python",
      "name": "python",
      "nbconvert_exporter": "python",
      "pygments_lexer": "ipython3",
      "version": "3.8.5"
    },
    "colab": {
      "provenance": []
    }
  },
  "nbformat": 4,
  "nbformat_minor": 0
}