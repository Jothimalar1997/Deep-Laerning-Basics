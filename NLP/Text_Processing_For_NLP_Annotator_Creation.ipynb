{
  "cells": [
    {
      "cell_type": "markdown",
      "metadata": {
        "id": "d4NhAyPde8FJ"
      },
      "source": [
        "# Sample text data"
      ]
    },
    {
      "cell_type": "code",
      "execution_count": null,
      "metadata": {
        "id": "BUrc7nuWe8FM"
      },
      "outputs": [],
      "source": [
        "data = [\n",
        "    (\"I love this product!\", \"positive\"),\n",
        "    (\"This is not what I expected.\", \"negative\"),\n",
        "    (\"The customer service was excellent.\", \"positive\"),\n",
        "    (\"The quality of the item is poor.\", \"negative\")\n",
        "]"
      ]
    },
    {
      "cell_type": "markdown",
      "metadata": {
        "id": "KsC55sMSe8FN"
      },
      "source": [
        "# Define the annotator"
      ]
    },
    {
      "cell_type": "code",
      "execution_count": null,
      "metadata": {
        "id": "gZFJVsUFe8FO",
        "outputId": "ab516f32-f7b5-4704-c5a4-5ffb0ca42fd9"
      },
      "outputs": [
        {
          "name": "stdout",
          "output_type": "stream",
          "text": [
            "Define the annotator\n"
          ]
        }
      ],
      "source": [
        "print(\"Define the annotator\")\n",
        "\n",
        "def annotate_data(data):\n",
        "    annotated_data = []\n",
        "    for text, label in data:\n",
        "        annotated_data.append((text, label))\n",
        "    return annotated_data"
      ]
    },
    {
      "cell_type": "markdown",
      "metadata": {
        "id": "K189n971e8FO"
      },
      "source": [
        "# Annotate the data"
      ]
    },
    {
      "cell_type": "code",
      "execution_count": null,
      "metadata": {
        "id": "Vj4AdRRIe8FP",
        "outputId": "c80b6b53-3ef6-44ec-bc6d-27ff98bffcde"
      },
      "outputs": [
        {
          "name": "stdout",
          "output_type": "stream",
          "text": [
            "Annotate the data\n",
            "Text: I love this product!\tLabel: positive\n",
            "Text: This is not what I expected.\tLabel: negative\n",
            "Text: The customer service was excellent.\tLabel: positive\n",
            "Text: The quality of the item is poor.\tLabel: negative\n"
          ]
        }
      ],
      "source": [
        "print(\"Annotate the data\")\n",
        "annotated_data = annotate_data(data)\n",
        "for text, label in annotated_data:\n",
        "    print(f\"Text: {text}\\tLabel: {label}\")"
      ]
    },
    {
      "cell_type": "code",
      "execution_count": null,
      "metadata": {
        "id": "iX6kDizfe8FP"
      },
      "outputs": [],
      "source": []
    }
  ],
  "metadata": {
    "kernelspec": {
      "display_name": "Python 3",
      "language": "python",
      "name": "python3"
    },
    "language_info": {
      "codemirror_mode": {
        "name": "ipython",
        "version": 3
      },
      "file_extension": ".py",
      "mimetype": "text/x-python",
      "name": "python",
      "nbconvert_exporter": "python",
      "pygments_lexer": "ipython3",
      "version": "3.8.5"
    },
    "colab": {
      "provenance": []
    }
  },
  "nbformat": 4,
  "nbformat_minor": 0
}