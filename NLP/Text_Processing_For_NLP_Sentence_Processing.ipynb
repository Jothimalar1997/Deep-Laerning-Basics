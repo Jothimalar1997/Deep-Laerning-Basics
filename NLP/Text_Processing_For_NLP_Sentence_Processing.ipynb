{
  "cells": [
    {
      "cell_type": "markdown",
      "metadata": {
        "id": "Gxhe-Hd0e6Y8"
      },
      "source": [
        "# Importing Necessary Libraries"
      ]
    },
    {
      "cell_type": "code",
      "execution_count": null,
      "metadata": {
        "id": "6dBGEMIxe6Y_"
      },
      "outputs": [],
      "source": [
        "import nltk\n",
        "from nltk.tokenize import sent_tokenize"
      ]
    },
    {
      "cell_type": "markdown",
      "metadata": {
        "id": "G4s60ipCe6ZA"
      },
      "source": [
        "# Sample text"
      ]
    },
    {
      "cell_type": "code",
      "execution_count": null,
      "metadata": {
        "id": "MmvTIGhHe6ZA"
      },
      "outputs": [],
      "source": [
        "text = \"This is the first sentence. Here comes the second sentence. Finally, the third sentence.\""
      ]
    },
    {
      "cell_type": "markdown",
      "metadata": {
        "id": "-iYGhpy3e6ZB"
      },
      "source": [
        "# Tokenize into sentences"
      ]
    },
    {
      "cell_type": "code",
      "execution_count": null,
      "metadata": {
        "id": "xhaOgwMYe6ZB",
        "outputId": "f1f1571a-bc8e-43a9-80b1-7fc484ae7393"
      },
      "outputs": [
        {
          "name": "stdout",
          "output_type": "stream",
          "text": [
            "Tokenize into sentences\n",
            "Tokenized sentences: ['This is the first sentence.', 'Here comes the second sentence.', 'Finally, the third sentence.']\n",
            "\n"
          ]
        }
      ],
      "source": [
        "print(\"Tokenize into sentences\")\n",
        "sentences = sent_tokenize(text)\n",
        "print(\"Tokenized sentences:\", sentences)\n",
        "print()"
      ]
    },
    {
      "cell_type": "markdown",
      "metadata": {
        "id": "XoL_B06ke6ZC"
      },
      "source": [
        "# Count sentences"
      ]
    },
    {
      "cell_type": "code",
      "execution_count": null,
      "metadata": {
        "id": "u6jkgTlRe6ZC",
        "outputId": "e1411845-365a-43ca-c362-d3f15956c25c"
      },
      "outputs": [
        {
          "name": "stdout",
          "output_type": "stream",
          "text": [
            "Count sentences\n",
            "Number of sentences: 3\n",
            "\n"
          ]
        }
      ],
      "source": [
        "print(\"Count sentences\")\n",
        "num_sentences = len(sentences)\n",
        "print(\"Number of sentences:\", num_sentences)\n",
        "print()"
      ]
    },
    {
      "cell_type": "markdown",
      "metadata": {
        "id": "6dVAnZBNe6ZC"
      },
      "source": [
        "# Finding the longest sentence"
      ]
    },
    {
      "cell_type": "code",
      "execution_count": null,
      "metadata": {
        "id": "tSyc39Pwe6ZC",
        "outputId": "6fdf49d4-6b8f-442b-9f44-2f85a0d16be8"
      },
      "outputs": [
        {
          "name": "stdout",
          "output_type": "stream",
          "text": [
            "Finding the longest sentence\n",
            "Longest sentence: Here comes the second sentence.\n",
            "\n"
          ]
        }
      ],
      "source": [
        "print(\"Finding the longest sentence\")\n",
        "longest_sentence = max(sentences, key=len)\n",
        "print(\"Longest sentence:\", longest_sentence)\n",
        "print()"
      ]
    },
    {
      "cell_type": "markdown",
      "metadata": {
        "id": "lVhIRakme6ZD"
      },
      "source": [
        "# Removing punctuation from sentences"
      ]
    },
    {
      "cell_type": "code",
      "execution_count": null,
      "metadata": {
        "id": "PySBJ7vLe6ZD",
        "outputId": "cfeae3dd-756c-4404-8dea-02e547fe1a58"
      },
      "outputs": [
        {
          "name": "stdout",
          "output_type": "stream",
          "text": [
            "Removing punctuation from sentences\n",
            "Sentences without punctuation: ['This is the first sentence', 'Here comes the second sentence', 'Finally the third sentence']\n"
          ]
        }
      ],
      "source": [
        "print(\"Removing punctuation from sentences\")\n",
        "import string\n",
        "\n",
        "def remove_punctuation(sentence):\n",
        "    translator = str.maketrans(\"\", \"\", string.punctuation)\n",
        "    return sentence.translate(translator)\n",
        "\n",
        "cleaned_sentences = [remove_punctuation(sentence) for sentence in sentences]\n",
        "print(\"Sentences without punctuation:\", cleaned_sentences)"
      ]
    },
    {
      "cell_type": "code",
      "execution_count": null,
      "metadata": {
        "id": "zQi9Dsr3e6ZD"
      },
      "outputs": [],
      "source": []
    }
  ],
  "metadata": {
    "kernelspec": {
      "display_name": "Python 3",
      "language": "python",
      "name": "python3"
    },
    "language_info": {
      "codemirror_mode": {
        "name": "ipython",
        "version": 3
      },
      "file_extension": ".py",
      "mimetype": "text/x-python",
      "name": "python",
      "nbconvert_exporter": "python",
      "pygments_lexer": "ipython3",
      "version": "3.8.5"
    },
    "colab": {
      "provenance": []
    }
  },
  "nbformat": 4,
  "nbformat_minor": 0
}