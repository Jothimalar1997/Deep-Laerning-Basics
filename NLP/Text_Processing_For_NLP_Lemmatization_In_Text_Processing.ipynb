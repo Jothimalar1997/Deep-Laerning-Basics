{
  "cells": [
    {
      "cell_type": "markdown",
      "metadata": {
        "id": "YT31udNge6eZ"
      },
      "source": [
        "# Importing Necessary Libraries"
      ]
    },
    {
      "cell_type": "code",
      "execution_count": null,
      "metadata": {
        "id": "iBacQzime6ec"
      },
      "outputs": [],
      "source": [
        "import nltk\n",
        "from nltk.tokenize import word_tokenize\n",
        "from nltk.stem import WordNetLemmatizer"
      ]
    },
    {
      "cell_type": "markdown",
      "metadata": {
        "id": "T1-d7BLLe6ed"
      },
      "source": [
        "# Sample text"
      ]
    },
    {
      "cell_type": "code",
      "execution_count": null,
      "metadata": {
        "id": "FWfU7have6ee"
      },
      "outputs": [],
      "source": [
        "text = \"Lemmatization is a crucial step in text processing. It reduces words to their base forms.\""
      ]
    },
    {
      "cell_type": "markdown",
      "metadata": {
        "id": "KkrGi2MSe6ee"
      },
      "source": [
        "# Tokenize into words"
      ]
    },
    {
      "cell_type": "code",
      "execution_count": null,
      "metadata": {
        "id": "38LYzUTOe6ee",
        "outputId": "d8de8a78-6c5d-43f4-ec96-2e88af4ff564"
      },
      "outputs": [
        {
          "name": "stdout",
          "output_type": "stream",
          "text": [
            "Tokenize into words\n",
            "Tokenized words: ['Lemmatization', 'is', 'a', 'crucial', 'step', 'in', 'text', 'processing', '.', 'It', 'reduces', 'words', 'to', 'their', 'base', 'forms', '.']\n",
            "\n"
          ]
        }
      ],
      "source": [
        "print(\"Tokenize into words\")\n",
        "words = word_tokenize(text)\n",
        "print(\"Tokenized words:\", words)\n",
        "print()"
      ]
    },
    {
      "cell_type": "markdown",
      "metadata": {
        "id": "hUMz4bOCe6ef"
      },
      "source": [
        "# Initiate the Lemmatizer"
      ]
    },
    {
      "cell_type": "code",
      "execution_count": null,
      "metadata": {
        "id": "6a2GQVCge6eg",
        "outputId": "b8acd3b1-a47b-4291-9d7a-2ab9f30f3543"
      },
      "outputs": [
        {
          "name": "stdout",
          "output_type": "stream",
          "text": [
            "Initialize the lemmatizer\n"
          ]
        }
      ],
      "source": [
        "print(\"Initialize the lemmatizer\")\n",
        "lemmatizer = WordNetLemmatizer()"
      ]
    },
    {
      "cell_type": "markdown",
      "metadata": {
        "id": "haLuH5jJe6eh"
      },
      "source": [
        "# Lemmatize words"
      ]
    },
    {
      "cell_type": "code",
      "execution_count": null,
      "metadata": {
        "id": "cHYoG2hYe6eh",
        "outputId": "8df16f74-e7aa-4bf2-ba53-68c10ad7203e"
      },
      "outputs": [
        {
          "name": "stdout",
          "output_type": "stream",
          "text": [
            "Lemmatize words\n",
            "Lemmatized words: ['Lemmatization', 'is', 'a', 'crucial', 'step', 'in', 'text', 'processing', '.', 'It', 'reduces', 'word', 'to', 'their', 'base', 'form', '.']\n"
          ]
        }
      ],
      "source": [
        "print(\"Lemmatize words\")\n",
        "lemmatized_words = [lemmatizer.lemmatize(word) for word in words]\n",
        "print(\"Lemmatized words:\", lemmatized_words)"
      ]
    },
    {
      "cell_type": "code",
      "execution_count": null,
      "metadata": {
        "id": "BN_S7KGZe6eh"
      },
      "outputs": [],
      "source": []
    }
  ],
  "metadata": {
    "kernelspec": {
      "display_name": "Python 3",
      "language": "python",
      "name": "python3"
    },
    "language_info": {
      "codemirror_mode": {
        "name": "ipython",
        "version": 3
      },
      "file_extension": ".py",
      "mimetype": "text/x-python",
      "name": "python",
      "nbconvert_exporter": "python",
      "pygments_lexer": "ipython3",
      "version": "3.8.5"
    },
    "colab": {
      "provenance": []
    }
  },
  "nbformat": 4,
  "nbformat_minor": 0
}